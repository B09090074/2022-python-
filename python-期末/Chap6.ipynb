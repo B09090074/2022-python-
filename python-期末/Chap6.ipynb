{
 "cells": [
  {
   "cell_type": "markdown",
   "metadata": {},
   "source": [
    "# Chap6\n",
    "os套件：用來處理文件與目錄，與檔案相關操作"
   ]
  },
  {
   "cell_type": "code",
   "execution_count": 186,
   "metadata": {},
   "outputs": [
    {
     "name": "stdout",
     "output_type": "stream",
     "text": [
      "c:\\Users\\KEN\\Downloads\\python-110-2\n"
     ]
    }
   ],
   "source": [
    "import os          #加入 os 資料庫\n",
    "print(os.getcwd()) #顯示目前所在的工作目錄"
   ]
  },
  {
   "cell_type": "code",
   "execution_count": 187,
   "metadata": {},
   "outputs": [
    {
     "data": {
      "text/plain": [
       "['98_381.ipynb',\n",
       " '98_381_題目版本.ipynb',\n",
       " 'Chap0.ipynb',\n",
       " 'Chap1.ipynb',\n",
       " 'Chap2.ipynb',\n",
       " 'Chap3-1.ipynb',\n",
       " 'Chap3.ipynb',\n",
       " 'Chap4.ipynb',\n",
       " 'Chap5.ipynb',\n",
       " 'Chap6.ipynb',\n",
       " 'Chap7.ipynb']"
      ]
     },
     "execution_count": 187,
     "metadata": {},
     "output_type": "execute_result"
    }
   ],
   "source": [
    "#顯示目錄下的檔案\n",
    "os.listdir(\".\")"
   ]
  },
  {
   "cell_type": "code",
   "execution_count": 188,
   "metadata": {},
   "outputs": [
    {
     "data": {
      "text/plain": [
       "['07e43cac1782ec62236671380f6efc1cc6302eb8_HD.mp4',\n",
       " 'desktop.ini',\n",
       " 'python--main',\n",
       " 'python--main.zip',\n",
       " 'python-110-2',\n",
       " 'python-110-2.zip',\n",
       " 'race.rar',\n",
       " '~$9090074 徐戎成.doc',\n",
       " '~$結構4章習題作業B09090000陳小明(請將檔名的學號與姓名改為自己的).doc']"
      ]
     },
     "execution_count": 188,
     "metadata": {},
     "output_type": "execute_result"
    }
   ],
   "source": [
    "#顯示上一個目錄下的檔案\n",
    "os.listdir(\"..\")"
   ]
  },
  {
   "cell_type": "code",
   "execution_count": 189,
   "metadata": {},
   "outputs": [
    {
     "data": {
      "text/plain": [
       "['98_381.ipynb',\n",
       " '98_381_題目版本.ipynb',\n",
       " 'Chap0.ipynb',\n",
       " 'Chap1.ipynb',\n",
       " 'Chap2.ipynb',\n",
       " 'Chap3-1.ipynb',\n",
       " 'Chap3.ipynb',\n",
       " 'Chap4.ipynb',\n",
       " 'Chap5.ipynb',\n",
       " 'Chap6.ipynb',\n",
       " 'Chap7.ipynb',\n",
       " 'test']"
      ]
     },
     "execution_count": 189,
     "metadata": {},
     "output_type": "execute_result"
    }
   ],
   "source": [
    "#新增目錄\n",
    "os.makedirs(\"test\") #在當前資料夾 新增 資料夾\n",
    "os.listdir(\".\")     #顯示目錄下的檔案"
   ]
  },
  {
   "cell_type": "code",
   "execution_count": 190,
   "metadata": {},
   "outputs": [
    {
     "data": {
      "text/plain": [
       "['98_381.ipynb',\n",
       " '98_381_題目版本.ipynb',\n",
       " 'Chap0.ipynb',\n",
       " 'Chap1.ipynb',\n",
       " 'Chap2.ipynb',\n",
       " 'Chap3-1.ipynb',\n",
       " 'Chap3.ipynb',\n",
       " 'Chap4.ipynb',\n",
       " 'Chap5.ipynb',\n",
       " 'Chap6.ipynb',\n",
       " 'Chap7.ipynb']"
      ]
     },
     "execution_count": 190,
     "metadata": {},
     "output_type": "execute_result"
    }
   ],
   "source": [
    "#移除目錄\n",
    "os.rmdir(\"test\")  #在當前資料夾 移除 資料夾\n",
    "os.listdir(\".\")   #顯示目錄下的檔案"
   ]
  },
  {
   "cell_type": "markdown",
   "metadata": {},
   "source": [
    "## 檔案處理\n",
    "os套件有自己的檔案處理命令，而比較常用的是python內建的open\n",
    "* w = 可寫(預設建立檔案) 若檔案存在則會清除舊檔案\n",
    "* w+ = 可寫可讀(預設建立檔案) 若檔案存在則會清除舊檔案\n",
    "* r = 可讀\n",
    "* r+ = 可寫可讀 但寫入資料指向開頭\n",
    "* a = 可寫不能讀 寫入資料指向尾端\n",
    "* a+ = 可寫可讀 寫入資料指向尾端\n",
    "* b = 轉為2進位文件\n",
    "* ab+ = 2進位文件的讀寫 寫入資料指向尾端"
   ]
  },
  {
   "cell_type": "markdown",
   "metadata": {},
   "source": [
    "## 新增檔案"
   ]
  },
  {
   "cell_type": "code",
   "execution_count": 191,
   "metadata": {},
   "outputs": [
    {
     "name": "stdout",
     "output_type": "stream",
     "text": [
      "This is a test1This is a test2\n",
      "This is a test3\n",
      "\n"
     ]
    }
   ],
   "source": [
    "a=open(\"a.txt\",\"w\")          #新增檔案 a.txt  (w 開啟 撰寫 會覆蓋)\n",
    "a.write(\"This is a test1\")   #\n",
    "a.write(\"This is a test2\\n\")\n",
    "a.write(\"This is a test3\\n\")\n",
    "a.close() #關閉檔案\n",
    "a=open(\"a.txt\",\"r\") #(r 開啟 閱讀)\n",
    "print(a.read())     #顯示 a 內容\n",
    "a.close() #關閉檔案"
   ]
  },
  {
   "cell_type": "markdown",
   "metadata": {},
   "source": [
    "## 檢查檔案是否存在"
   ]
  },
  {
   "cell_type": "code",
   "execution_count": 192,
   "metadata": {},
   "outputs": [
    {
     "data": {
      "text/plain": [
       "True"
      ]
     },
     "execution_count": 192,
     "metadata": {},
     "output_type": "execute_result"
    }
   ],
   "source": [
    "os.path.isfile(\"a.txt\") #檢查檔案是否存在"
   ]
  },
  {
   "cell_type": "markdown",
   "metadata": {},
   "source": [
    "## 讀取檔案"
   ]
  },
  {
   "cell_type": "code",
   "execution_count": 193,
   "metadata": {},
   "outputs": [
    {
     "name": "stdout",
     "output_type": "stream",
     "text": [
      "This is a test1This is a test2\n",
      "\n",
      "This is a test3\n",
      "\n",
      "\n"
     ]
    }
   ],
   "source": [
    "a=open(\"a.txt\",\"r\")  #(r 開啟 閱讀)\n",
    "print(a.readline()) \n",
    "print(a.readline())\n",
    "print(a.readline()) #多餘的命令，檔案只有2行\n",
    "a.close() #關閉檔案"
   ]
  },
  {
   "cell_type": "code",
   "execution_count": 194,
   "metadata": {},
   "outputs": [
    {
     "name": "stdout",
     "output_type": "stream",
     "text": [
      "['This is a test1This is a test2\\n', 'This is a test3\\n']\n"
     ]
    }
   ],
   "source": [
    "a=open(\"a.txt\",\"r\")   #(r 開啟 閱讀)\n",
    "print(a.readlines())  #一次讀取多行，與a.read()命令相同\n",
    "a.close()             #關閉檔案"
   ]
  },
  {
   "cell_type": "code",
   "execution_count": 195,
   "metadata": {},
   "outputs": [
    {
     "name": "stdout",
     "output_type": "stream",
     "text": [
      "['This is a test1This is a test2\\n', 'This is a test3\\n']\n"
     ]
    }
   ],
   "source": [
    "#加上檔案是否存在的判斷\n",
    "if os.path.isfile(\"a.txt\"):  #假如 a.txt 存在\n",
    "    a=open(\"a.txt\",\"r\")      #a.txt 開啟 閱讀\n",
    "    print(a.readlines())     #顯示 a.txt\n",
    "    a.close()                #關閉檔案\n",
    "else:                        #否則\n",
    "    print(\"檔案不存在\")      #顯示 檔案不存在"
   ]
  },
  {
   "cell_type": "markdown",
   "metadata": {},
   "source": [
    "## split函式"
   ]
  },
  {
   "cell_type": "code",
   "execution_count": 196,
   "metadata": {},
   "outputs": [
    {
     "name": "stdout",
     "output_type": "stream",
     "text": [
      "['This', 'is', 'a', 'test1This', 'is', 'a', 'test2\\n']\n",
      "['This', 'is', 'a', 'test3\\n']\n"
     ]
    }
   ],
   "source": [
    "if os.path.isfile(\"a.txt\"):    #假如 a.txt 存在\n",
    "    a=open(\"a.txt\",\"r\")        #a.txt 開啟 閱讀\n",
    "    for line in a:             \n",
    "        fields=line.split(\" \") #將 a.txt 以空白間隔 存入 串列 fields\n",
    "        print(fields)          #顯示 串列\n",
    "    a.close()                  #關閉檔案\n",
    "else:                          #否則\n",
    "    print(\"檔案不存在\")        #顯示 檔案不存在\n",
    "        "
   ]
  },
  {
   "cell_type": "markdown",
   "metadata": {},
   "source": [
    "## 附加檔案"
   ]
  },
  {
   "cell_type": "code",
   "execution_count": 197,
   "metadata": {},
   "outputs": [],
   "source": [
    "a=open(\"a.txt\", \"a\")        #開啟檔案添加，在檔案尾巴開始附加寫入資料\n",
    "a.write(\"This is test4\\n\")  #寫入 This is test4 換行\n",
    "a.close()                   #關閉檔案"
   ]
  },
  {
   "cell_type": "code",
   "execution_count": 198,
   "metadata": {},
   "outputs": [
    {
     "name": "stdout",
     "output_type": "stream",
     "text": [
      "['This is a test1This is a test2\\n', 'This is a test3\\n', 'This is test4\\n']\n"
     ]
    }
   ],
   "source": [
    "a=open(\"a.txt\",\"r\")         #開啟檔案讀取\n",
    "print(a.readlines())        #顯示 a.txt\n",
    "a.close()                   #關閉檔案"
   ]
  },
  {
   "cell_type": "markdown",
   "metadata": {},
   "source": [
    "## 比較a與r+的不同\n",
    "* a  在檔案尾部進行撰寫\n",
    "* r+ 在檔案最前端進行撰寫"
   ]
  },
  {
   "cell_type": "code",
   "execution_count": 199,
   "metadata": {},
   "outputs": [],
   "source": [
    "a=open(\"a.txt\",\"r+\")           #開啟檔案 在第一行撰寫\n",
    "a.write(\"This is a test5\\n\")   # 寫入 This is a test5 換行\n",
    "a.close()                      #關閉檔案"
   ]
  },
  {
   "cell_type": "code",
   "execution_count": 200,
   "metadata": {},
   "outputs": [
    {
     "name": "stdout",
     "output_type": "stream",
     "text": [
      "['This is a test5\\n', 'is is a test2\\n', 'This is a test3\\n', 'This is test4\\n']\n"
     ]
    }
   ],
   "source": [
    "a=open(\"a.txt\",\"r\")           #開啟檔案閱讀\n",
    "print(a.readlines())          #顯示檔案\n",
    "a.close()                     #關閉檔案"
   ]
  },
  {
   "cell_type": "markdown",
   "metadata": {},
   "source": [
    "## 刪除檔案"
   ]
  },
  {
   "cell_type": "code",
   "execution_count": 201,
   "metadata": {},
   "outputs": [
    {
     "name": "stdout",
     "output_type": "stream",
     "text": [
      "檔案刪除成功\n",
      "False\n"
     ]
    }
   ],
   "source": [
    "if os.path.isfile(\"a.txt\"):        #假如 a.txt 存在\n",
    "    os.remove(\"a.txt\")             #移除 a.txt\n",
    "    print(\"檔案刪除成功\")          #顯示 檔案刪除成功\n",
    "else:                              #否則 \n",
    "    print(\"找不到檔案\")            #顯示 找不到檔案\n",
    "print(os.path.isfile(\"a.txt\"))     #顯示 判斷檔案是否存在"
   ]
  },
  {
   "cell_type": "code",
   "execution_count": null,
   "metadata": {},
   "outputs": [],
   "source": []
  }
 ],
 "metadata": {
  "kernelspec": {
   "display_name": "Python 3.10.4 64-bit",
   "language": "python",
   "name": "python3"
  },
  "language_info": {
   "codemirror_mode": {
    "name": "ipython",
    "version": 3
   },
   "file_extension": ".py",
   "mimetype": "text/x-python",
   "name": "python",
   "nbconvert_exporter": "python",
   "pygments_lexer": "ipython3",
   "version": "3.10.4"
  },
  "vscode": {
   "interpreter": {
    "hash": "f421bd6629c33cd6d6935ba372a827816a6b573729d249b96062e4a99557d3b8"
   }
  }
 },
 "nbformat": 4,
 "nbformat_minor": 4
}
