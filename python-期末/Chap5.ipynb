{
 "cells": [
  {
   "cell_type": "markdown",
   "metadata": {},
   "source": [
    "# 函式(數)"
   ]
  },
  {
   "cell_type": "markdown",
   "metadata": {},
   "source": [
    "## 傳統的寫法"
   ]
  },
  {
   "cell_type": "code",
   "execution_count": 5,
   "metadata": {},
   "outputs": [
    {
     "name": "stdout",
     "output_type": "stream",
     "text": [
      "圓的面積為： 78.53981633974483\n"
     ]
    }
   ],
   "source": [
    "import math  #加入 math 資料庫\n",
    "r = eval(input(\"請輸入圓的半徑：\")) #input 把輸入 字串 處存至 串列 radius\n",
    "print(\"圓的面積為：\", r * r * math.pi) #顯示 圓的面積為：r*r*π"
   ]
  },
  {
   "cell_type": "markdown",
   "metadata": {},
   "source": [
    "## 面積計算函示"
   ]
  },
  {
   "cell_type": "code",
   "execution_count": 6,
   "metadata": {},
   "outputs": [
    {
     "name": "stdout",
     "output_type": "stream",
     "text": [
      "314.1592653589793\n"
     ]
    }
   ],
   "source": [
    "import math     #加入 math 資料庫\n",
    "def circle_area(r):                 #建立物件 \n",
    "    area = r * r * math.pi          #計算\n",
    "    return area                     #回傳\n",
    "\n",
    "print(circle_area(10))"
   ]
  },
  {
   "cell_type": "code",
   "execution_count": null,
   "metadata": {},
   "outputs": [],
   "source": []
  }
 ],
 "metadata": {
  "kernelspec": {
   "display_name": "Python 3.10.4 64-bit",
   "language": "python",
   "name": "python3"
  },
  "language_info": {
   "codemirror_mode": {
    "name": "ipython",
    "version": 3
   },
   "file_extension": ".py",
   "mimetype": "text/x-python",
   "name": "python",
   "nbconvert_exporter": "python",
   "pygments_lexer": "ipython3",
   "version": "3.10.4"
  },
  "vscode": {
   "interpreter": {
    "hash": "f421bd6629c33cd6d6935ba372a827816a6b573729d249b96062e4a99557d3b8"
   }
  }
 },
 "nbformat": 4,
 "nbformat_minor": 4
}
