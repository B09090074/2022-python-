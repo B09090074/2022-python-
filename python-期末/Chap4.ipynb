{
 "cells": [
  {
   "cell_type": "markdown",
   "metadata": {},
   "source": [
    "# Chap.4 numpy套件(numeric python)\n",
    "## 為什麼需要numpy?\n",
    "* numpy由c撰寫，速度快python 10~1000倍以上\n",
    "* numpy儲存結果較正確，python數字儲存不正確\n",
    "* numpy節省記憶體儲存空間\n",
    "* numpy的向量(矩陣計算)速度快\n",
    "* numpy的取值方便\n",
    "# Numpy 可以產生一維、二維陣列進行向量（vector）和矩陣（matrix）運算"
   ]
  },
  {
   "cell_type": "code",
   "execution_count": 82,
   "metadata": {},
   "outputs": [
    {
     "name": "stdout",
     "output_type": "stream",
     "text": [
      "[1, 2, 3, 4, 5, 1, 2, 3, 4, 5, 1, 2, 3, 4, 5]\n"
     ]
    }
   ],
   "source": [
    "a_list=[1,2,3,4,5] #宣告 串列 a\n",
    "print(a_list*3)    #顯示 串列 a 重複3次"
   ]
  },
  {
   "cell_type": "code",
   "execution_count": 83,
   "metadata": {},
   "outputs": [
    {
     "name": "stdout",
     "output_type": "stream",
     "text": [
      "[ 3  6  9 12 15]\n"
     ]
    }
   ],
   "source": [
    "#numpy套件的ndarray型態,提供element-wise的操作\n",
    "import numpy  #加入 numpy 資料庫\n",
    "a=numpy.array([1,2,3,4,5]) #透過 numpy 建立陣列\n",
    "print(a*3)   #顯示 list a 3次"
   ]
  },
  {
   "cell_type": "code",
   "execution_count": 84,
   "metadata": {},
   "outputs": [
    {
     "name": "stdout",
     "output_type": "stream",
     "text": [
      "<class 'numpy.ndarray'>\n",
      "(5,)\n",
      "int32\n",
      "1\n"
     ]
    }
   ],
   "source": [
    "a=numpy.array([1,2,3,4,5]) #透過 numpy 建立陣列\n",
    "print(type(a))  # 顯示 list a 處存類型\n",
    "print(a.shape) #顯示 list a 矩陣形狀\n",
    "print(a.dtype) #顯示 list a 資料型態\n",
    "print(a.ndim) #顯示 list a 維度"
   ]
  },
  {
   "cell_type": "code",
   "execution_count": 85,
   "metadata": {},
   "outputs": [
    {
     "name": "stdout",
     "output_type": "stream",
     "text": [
      "[0. 0. 0. 0. 0. 0.]\n",
      "[[[6.23042070e-307 4.67296746e-307 1.69121096e-306 3.33772792e-307]\n",
      "  [1.42419938e-306 7.56603881e-307 8.45603440e-307 3.56043054e-307]\n",
      "  [1.60219306e-306 6.23059726e-307 1.06811422e-306 3.56043054e-307]]\n",
      "\n",
      " [[1.37961641e-306 8.90071135e-308 8.01097889e-307 1.78020169e-306]\n",
      "  [7.56601165e-307 1.02359984e-306 1.33510679e-306 2.22522597e-306]\n",
      "  [6.23053614e-307 1.60221072e-306 1.42410974e-306 2.56761491e-312]]]\n",
      "[0 1 2 3 4 5 6 7 8 9]\n",
      "[3 4 5 6 7]\n",
      "[3 5 7]\n"
     ]
    }
   ],
   "source": [
    "import numpy as np #加入 numpy 資料庫 到 np (讓指令簡短一些)\n",
    "z=np.zeros(6)      #list z 建立長度為6 一維陣列\n",
    "print(z)           #顯示 list z\n",
    "print(np.empty((2,3,4)))  #np.empty(shape, dtype=float, order='C')\n",
    "print(np.arange(10))       #只有結束\n",
    "print(np.arange(3,8))      #起點 結束\n",
    "print(np.arange(3,8,2))    #起點 結束 步長\n",
    "\n",
    "#np.arange(start, stop, step, dtype = None)"
   ]
  },
  {
   "cell_type": "markdown",
   "metadata": {},
   "source": [
    "## ndarray的進階操作"
   ]
  },
  {
   "cell_type": "code",
   "execution_count": 86,
   "metadata": {},
   "outputs": [
    {
     "name": "stdout",
     "output_type": "stream",
     "text": [
      "[0 1 2 3 4 5 6 7 8 9]\n",
      "0\n",
      "[0 1 2 3 4]\n"
     ]
    }
   ],
   "source": [
    "#np.arange(start, stop, step, dtype = None)\n",
    "my_array=np.arange(10)  #只有結束項 \n",
    "print(my_array)         #顯示 list my_array\n",
    "print(my_array[0])      #顯示 list my_array 第一項\n",
    "print(my_array[0:5])    #顯示 list my_array 第一行 第六列"
   ]
  },
  {
   "cell_type": "markdown",
   "metadata": {},
   "source": [
    "### 2維資料取值"
   ]
  },
  {
   "cell_type": "code",
   "execution_count": 87,
   "metadata": {},
   "outputs": [
    {
     "name": "stdout",
     "output_type": "stream",
     "text": [
      "[[0 1 2 3 4]\n",
      " [5 6 7 8 9]]\n",
      "[5 6 7 8 9]\n",
      "[1 6]\n",
      "6\n"
     ]
    }
   ],
   "source": [
    "my_2d_array=np.array([np.arange(0,5),np.arange(5,10)]) #透過 array 建立 2*5 二微陣列\n",
    "print(my_2d_array)        #顯示 陣列\n",
    "print(my_2d_array[1,:])   #顯示 陣列 第2行 全部資料\n",
    "print(my_2d_array[:,1])   #顯示 陣列 第1列 全部資料\n",
    "print(my_2d_array[1,1])   #顯示 陣列 第1行 第1列 資料"
   ]
  },
  {
   "cell_type": "code",
   "execution_count": 88,
   "metadata": {},
   "outputs": [
    {
     "name": "stdout",
     "output_type": "stream",
     "text": [
      "[0 1 2 3 4 5 6 7 8 9]\n",
      "(10,)\n",
      "[[0 1 2 3 4]\n",
      " [5 6 7 8 9]]\n",
      "[[ 0  1  2  3  4  5  6  7  8  9]\n",
      " [10 11 12 13 14 15 16 17 18 19]\n",
      " [20 21 22 23 24 25 26 27 28 29]\n",
      " [30 31 32 33 34 35 36 37 38 39]\n",
      " [40 41 42 43 44 45 46 47 48 49]\n",
      " [50 51 52 53 54 55 56 57 58 59]\n",
      " [60 61 62 63 64 65 66 67 68 69]\n",
      " [70 71 72 73 74 75 76 77 78 79]\n",
      " [80 81 82 83 84 85 86 87 88 89]\n",
      " [90 91 92 93 94 95 96 97 98 99]]\n"
     ]
    }
   ],
   "source": [
    "my_array=np.arange(0,10)       #建立 1*10 陣列\n",
    "print(my_array)                #顯示 1*10 陣列\n",
    "print(my_array.shape)          #顯示  陣列 形狀\n",
    "#-----------------------------------------------------\n",
    "my_2d_array=my_array.reshape(2,5)        # 依次生成n個自然數，並且以a行b列的數組 顯示\n",
    "print(my_2d_array)                       #顯示 陣列 \n",
    "print((np.arange(0,100).reshape(10,10))) # 顯示 100個自然數 以10行10列的數組 排序"
   ]
  },
  {
   "cell_type": "markdown",
   "metadata": {},
   "source": [
    "### numpy的空值nan"
   ]
  },
  {
   "cell_type": "code",
   "execution_count": 89,
   "metadata": {},
   "outputs": [
    {
     "name": "stdout",
     "output_type": "stream",
     "text": [
      "[56.  8. 19. 14. nan]\n"
     ]
    }
   ],
   "source": [
    "b=np.array([56, 8, 19, 14, np.nan]) #宣告 串列\n",
    "print(b)    #顯示 串列\n",
    "#nan為 空值"
   ]
  },
  {
   "cell_type": "code",
   "execution_count": null,
   "metadata": {},
   "outputs": [],
   "source": []
  }
 ],
 "metadata": {
  "kernelspec": {
   "display_name": "Python 3.10.4 64-bit",
   "language": "python",
   "name": "python3"
  },
  "language_info": {
   "codemirror_mode": {
    "name": "ipython",
    "version": 3
   },
   "file_extension": ".py",
   "mimetype": "text/x-python",
   "name": "python",
   "nbconvert_exporter": "python",
   "pygments_lexer": "ipython3",
   "version": "3.10.4"
  },
  "vscode": {
   "interpreter": {
    "hash": "f421bd6629c33cd6d6935ba372a827816a6b573729d249b96062e4a99557d3b8"
   }
  }
 },
 "nbformat": 4,
 "nbformat_minor": 4
}
