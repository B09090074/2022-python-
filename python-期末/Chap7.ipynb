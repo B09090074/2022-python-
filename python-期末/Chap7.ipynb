{
 "cells": [
  {
   "cell_type": "markdown",
   "metadata": {},
   "source": [
    "# Chap7 錯誤處理\n",
    "try:    正常執行碼部分\n",
    "except:  如產生例外會丟進這裡\n",
    "else:    沒有例外丟進這裡\n",
    "finally: try catch都執行完後 執行"
   ]
  },
  {
   "cell_type": "code",
   "execution_count": 1,
   "metadata": {},
   "outputs": [
    {
     "name": "stdout",
     "output_type": "stream",
     "text": [
      "10\n"
     ]
    }
   ],
   "source": [
    "a=10    #a 為 10\n",
    "b=20    #b 為 20\n",
    "if a<b: # 假如 a<b\n",
    "    print(a)   # 顯示 a"
   ]
  },
  {
   "cell_type": "code",
   "execution_count": 2,
   "metadata": {},
   "outputs": [
    {
     "name": "stdout",
     "output_type": "stream",
     "text": [
      "10\n"
     ]
    }
   ],
   "source": [
    "a=10       #a 為 10\n",
    "b=20       #b 為 20\n",
    "try:  \n",
    "    if a<b:     #假如a<b\n",
    "        print(a)#顯示a\n",
    "except:         #例外處理\n",
    "    print(\"錯誤產生\")  #顯示 錯誤產生"
   ]
  },
  {
   "cell_type": "markdown",
   "metadata": {},
   "source": [
    "## 指定錯誤類別處理"
   ]
  },
  {
   "cell_type": "code",
   "execution_count": 3,
   "metadata": {},
   "outputs": [
    {
     "name": "stdout",
     "output_type": "stream",
     "text": [
      "10\n"
     ]
    }
   ],
   "source": [
    "a=10  #a 為 10\n",
    "b=20  #b 為 20\n",
    "try:\n",
    "    if a<b:        #假如 a<b\n",
    "        print(a)   #顯示 a\n",
    "except NameError as e:   #將錯誤原因存入 e\n",
    "    print(\"錯誤產生, 錯誤原因：\",e)   #顯示錯誤原因\n",
    "except ZeroDivisionError:    #零除法錯誤 時:\n",
    "    print(\"除以0錯誤\")       #顯示 除以0錯誤"
   ]
  },
  {
   "cell_type": "markdown",
   "metadata": {},
   "source": [
    "## else\n",
    "沒有錯誤產生會執行的部分"
   ]
  },
  {
   "cell_type": "code",
   "execution_count": 4,
   "metadata": {},
   "outputs": [
    {
     "name": "stdout",
     "output_type": "stream",
     "text": [
      "沒有錯誤發生時會執行的部分\n"
     ]
    }
   ],
   "source": [
    "a=10  #a 為 10\n",
    "b=20  #b 為 20\n",
    "try:\n",
    "    if a>b: #假如 a>b\n",
    "        print(a)       #顯示 a\n",
    "except:                #錯誤產生時:\n",
    "    print(\"錯誤發生\")  #顯示 錯誤發生\n",
    "else:                  #否則\n",
    "    print(\"沒有錯誤發生時會執行的部分\")  #顯示 沒有錯誤發生時會執行的部分"
   ]
  },
  {
   "cell_type": "code",
   "execution_count": 5,
   "metadata": {},
   "outputs": [
    {
     "name": "stdout",
     "output_type": "stream",
     "text": [
      "沒有錯誤發生時會執行的部分\n",
      "不管有沒有錯誤一定會執行的部分\n"
     ]
    }
   ],
   "source": [
    "a=10  #a 為 10\n",
    "b=20  #b 為 20\n",
    "try:\n",
    "    if a>b: #假如 a>b\n",
    "        print(a)       #顯示 a\n",
    "except:                #錯誤產生時:\n",
    "    print(\"錯誤發生\")  #顯示 錯誤發生\n",
    "else:                  #否則\n",
    "    print(\"沒有錯誤發生時會執行的部分\") #顯示 沒有錯誤發生時會執行的部分\n",
    "finally:                                #try catch 都執行完時:\n",
    "    print(\"不管有沒有錯誤一定會執行的部分\")  #顯示 不管有沒有錯誤一定會執行的部分"
   ]
  },
  {
   "cell_type": "code",
   "execution_count": null,
   "metadata": {},
   "outputs": [],
   "source": []
  }
 ],
 "metadata": {
  "kernelspec": {
   "display_name": "Python 3.10.4 64-bit",
   "language": "python",
   "name": "python3"
  },
  "language_info": {
   "codemirror_mode": {
    "name": "ipython",
    "version": 3
   },
   "file_extension": ".py",
   "mimetype": "text/x-python",
   "name": "python",
   "nbconvert_exporter": "python",
   "pygments_lexer": "ipython3",
   "version": "3.10.4"
  },
  "vscode": {
   "interpreter": {
    "hash": "f421bd6629c33cd6d6935ba372a827816a6b573729d249b96062e4a99557d3b8"
   }
  }
 },
 "nbformat": 4,
 "nbformat_minor": 4
}
