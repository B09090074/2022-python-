{
 "cells": [
  {
   "cell_type": "markdown",
   "metadata": {},
   "source": [
    "# Python物件\n",
    "## List[串列] Tuple(元組) Dictionary{字典} Sets{集合}"
   ]
  },
  {
   "cell_type": "markdown",
   "metadata": {},
   "source": [
    "## List[串列]\n",
    "使用中括號[]包裹元素"
   ]
  },
  {
   "cell_type": "code",
   "execution_count": 1,
   "metadata": {},
   "outputs": [
    {
     "name": "stdout",
     "output_type": "stream",
     "text": [
      "3600\n"
     ]
    }
   ],
   "source": [
    "expenses = [1138, 101, 12, 300, 2049] #宣告串列 expenses\n",
    "print(sum(expenses)) #顯示 字典expenses 總和"
   ]
  },
  {
   "cell_type": "markdown",
   "metadata": {},
   "source": [
    "### 索引"
   ]
  },
  {
   "cell_type": "code",
   "execution_count": 2,
   "metadata": {},
   "outputs": [
    {
     "name": "stdout",
     "output_type": "stream",
     "text": [
      "1138\n",
      "101\n",
      "2049\n",
      "300\n"
     ]
    }
   ],
   "source": [
    "expenses = [1138, 101, 12, 300, 2049] #宣告串列 expenses\n",
    "print(expenses[0]) #顯示      第一個值\n",
    "print(expenses[1]) #顯示      第二個值\n",
    "print(expenses[-1])#顯示 倒數 第一個值\n",
    "print(expenses[-2])#顯示 倒數 第二個值"
   ]
  },
  {
   "cell_type": "code",
   "execution_count": 3,
   "metadata": {},
   "outputs": [
    {
     "name": "stdout",
     "output_type": "stream",
     "text": [
      "[]\n",
      "[]\n",
      "['python', 'javascript', 'C#']\n",
      "python\n",
      "javascript\n",
      "C#\n"
     ]
    }
   ],
   "source": [
    "my_list0 = []     #宣告 空串列 my_list0\n",
    "print(my_list0)   #顯示 串列 my_list0\n",
    "my_list1 = list() #宣告 空串列 my_list0\n",
    "print(my_list1)   #顯示 串列 my_list1\n",
    "my_list2 = ['python', 'javascript', 'C#'] #宣告 串列 my_list2\n",
    "print(my_list2)#顯示 串列 my_list1 \n",
    "print(my_list2[0])#顯示 串列 my_list1 第一個值\n",
    "print(my_list2[1])#顯示 串列 my_list1 第二個值\n",
    "print(my_list2[2])#顯示 串列 my_list1 第三個值"
   ]
  },
  {
   "cell_type": "markdown",
   "metadata": {},
   "source": [
    "## list的長度"
   ]
  },
  {
   "cell_type": "code",
   "execution_count": 4,
   "metadata": {},
   "outputs": [
    {
     "name": "stdout",
     "output_type": "stream",
     "text": [
      "3\n",
      "6\n"
     ]
    }
   ],
   "source": [
    "my_list2 = ['python', 'javascript', 'C#'] #宣告 串列 my_list2\n",
    "print(len(my_list2))     #顯示 my_list2 包含幾個元素\n",
    "print(len(my_list2[0]))  #顯示 my_list2 第一個元素 有幾個位元"
   ]
  },
  {
   "cell_type": "markdown",
   "metadata": {},
   "source": [
    "### 附加"
   ]
  },
  {
   "cell_type": "code",
   "execution_count": 5,
   "metadata": {},
   "outputs": [
    {
     "name": "stdout",
     "output_type": "stream",
     "text": [
      "['python', 'javascript', 'C#', 'java']\n"
     ]
    }
   ],
   "source": [
    "my_list2 = ['python', 'javascript', 'C#'] #宣告 串列 my_list2\n",
    "my_list2.append('java') #串列 my_list2 最末端新增 元素 'java'\n",
    "print(my_list2)  #顯示 my_list2 "
   ]
  },
  {
   "cell_type": "code",
   "execution_count": 6,
   "metadata": {},
   "outputs": [
    {
     "name": "stdout",
     "output_type": "stream",
     "text": [
      "['python', 'java', 'javascript', 'C#']\n"
     ]
    }
   ],
   "source": [
    "my_list2 = ['python', 'javascript', 'C#'] #宣告 串列 my_list2\n",
    "my_list2.insert(1,'java') #串列 my_list2 第二個值前面 新增 元素 'java'\n",
    "print(my_list2)  #顯示 串列"
   ]
  },
  {
   "cell_type": "markdown",
   "metadata": {},
   "source": [
    "### 刪除"
   ]
  },
  {
   "cell_type": "code",
   "execution_count": 7,
   "metadata": {},
   "outputs": [
    {
     "name": "stdout",
     "output_type": "stream",
     "text": [
      "['javascript', 'C#']\n",
      "['javascript']\n",
      "[]\n"
     ]
    }
   ],
   "source": [
    "my_list2 = ['python', 'javascript', 'C#']#宣告 串列 my_list2\n",
    "my_list2.remove('python') #串列 my_list2 移除 指定元素\n",
    "print(my_list2)  #顯示 串列 \n",
    "#---------------------------------------------------------\n",
    "del my_list2[-1] #刪除 串列 my_list2 倒數第一個 元素\n",
    "print(my_list2) #顯示 串列\n",
    "#---------------------------------------------------------\n",
    "my_list2.clear() #清除全部\n",
    "print(my_list2) #顯示 串列"
   ]
  },
  {
   "cell_type": "code",
   "execution_count": 8,
   "metadata": {},
   "outputs": [
    {
     "name": "stdout",
     "output_type": "stream",
     "text": [
      "[1, 2, 1, 2, 1, 2, 1, 2, 1, 2]\n"
     ]
    }
   ],
   "source": [
    "a=[1,2]   #宣告 串列 a\n",
    "print(a*5) # 顯示串列 A 重複 5 次"
   ]
  },
  {
   "cell_type": "markdown",
   "metadata": {},
   "source": [
    "### list取值"
   ]
  },
  {
   "cell_type": "code",
   "execution_count": 9,
   "metadata": {},
   "outputs": [
    {
     "name": "stdout",
     "output_type": "stream",
     "text": [
      "[0, 1, 2]\n",
      "[0, 2, 4, 6, 8]\n",
      "[5, 6, 7, 8, 9, 10, 11, 12, 13, 14, 15]\n",
      "[0, 1, 2, 3, 4, 5, 6, 7, 8]\n",
      "[0, 1, 2, 3, 4, 5, 6, 7, 8, 9, 10, 11, 12, 13, 14, 15]\n"
     ]
    }
   ],
   "source": [
    "a=[0,1,2,3,4,5,6,7,8,9,10,11,12,13,14,15]  #宣告 串列 a\n",
    "b=a[0:3]   #b 為 串列 a 範圍 (0<=  >3) 取值\n",
    "print(b)   #顯示 串列\n",
    "#---------------------------------------------------------\n",
    "c=a[0:9:2] #c 為 串列 a 範圍 (0<=  >9) 取值 間隔2\n",
    "print(c)   #顯示 串列\n",
    "#---------------------------------------------------------\n",
    "d = a[5: ] #d 為 串列 a 範圍 (5<=    ) 取值\n",
    "print(d)   #顯示 串列\n",
    "#---------------------------------------------------------\n",
    "e = a[ :9] #e 為 串列 a 範圍 (     <9) 取值\n",
    "print(e)   #顯示 串列\n",
    "#---------------------------------------------------------\n",
    "f = a[:]   #f 為 串列 a 範圍 (       ) 取值\n",
    "print(f)   #顯示 串列"
   ]
  },
  {
   "cell_type": "code",
   "execution_count": 10,
   "metadata": {},
   "outputs": [
    {
     "name": "stdout",
     "output_type": "stream",
     "text": [
      "[0, 1, 2, 3, 4, 5, 6, 9, 10, 11, 12, 13, 14, 15]\n",
      "0\n",
      "15\n",
      "105\n",
      "7\n",
      "4\n",
      "[15, 14, 13, 12, 11, 10, 9, 6, 5, 4, 3, 2, 1, 0]\n",
      "[0, 1, 2, 3, 4, 5, 6, 9, 10, 11, 12, 13, 14, 15]\n"
     ]
    }
   ],
   "source": [
    "a=[0,1,2,3,4,5,6,7,8,9,10,11,12,13,14,15] #宣告 串列 a\n",
    "del a[7:9] #刪除 串列 a 範圍 (7<=  >9)\n",
    "print(a)\n",
    "#---------------------------------------------------------\n",
    "print(min(a))     #顯示 串列 a 最小值\n",
    "print(max(a))     #顯示 串列 a 最大值\n",
    "print(sum(a))     #顯示 串列 a 總和值\n",
    "print(a.index(9)) #顯示 串列 a 值 9 位置\n",
    "#---------------------------------------------------------\n",
    "b=[1,0,0,1,1,1]   #宣告 串列 b\n",
    "print(b.count(1)) #計算 串列 b 值 1 數量\n",
    "#---------------------------------------------------------\n",
    "a.reverse()       #串列 a 值 順序反轉\n",
    "print(a)          #顯示 串列 a\n",
    "#---------------------------------------------------------\n",
    "a.sort()          #顯示 串列 a 小至大排序\n",
    "print(a)          #顯示 串列 a"
   ]
  },
  {
   "cell_type": "code",
   "execution_count": 11,
   "metadata": {},
   "outputs": [
    {
     "name": "stdout",
     "output_type": "stream",
     "text": [
      "[12, 101, 300, 1138, 2049] [1138, 101, 12, 300, 2049]\n"
     ]
    }
   ],
   "source": [
    "#sorted 不會取代原本串列\n",
    "expenses = [1138, 101, 12, 300, 2049]\n",
    "s=sorted(expenses) #串列 s 為 串列 expenses 小至大排序\n",
    "print(s, expenses) #顯示 串列 s , 串列 expenses"
   ]
  },
  {
   "cell_type": "code",
   "execution_count": null,
   "metadata": {},
   "outputs": [],
   "source": []
  }
 ],
 "metadata": {
  "kernelspec": {
   "display_name": "Python 3.10.4 64-bit",
   "language": "python",
   "name": "python3"
  },
  "language_info": {
   "codemirror_mode": {
    "name": "ipython",
    "version": 3
   },
   "file_extension": ".py",
   "mimetype": "text/x-python",
   "name": "python",
   "nbconvert_exporter": "python",
   "pygments_lexer": "ipython3",
   "version": "3.10.4"
  },
  "vscode": {
   "interpreter": {
    "hash": "f421bd6629c33cd6d6935ba372a827816a6b573729d249b96062e4a99557d3b8"
   }
  }
 },
 "nbformat": 4,
 "nbformat_minor": 4
}
