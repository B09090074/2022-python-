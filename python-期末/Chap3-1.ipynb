{
  "cells": [
    {
      "cell_type": "markdown",
      "metadata": {
        "id": "j7ppCx7DbEcd"
      },
      "source": [
        "## Tuple (元組)\n",
        "tuple(元組)可視為不可改變的串列，tuple跟list很像，但是我們不能新增、刪除或更新tuple的元素。tuple的好處有：\n",
        "1. 佔用較少空間\n",
        "2. 可當作dictionary(字典)的鍵值\n",
        "3. 可當作函式引數"
      ]
    },
    {
      "cell_type": "code",
      "execution_count": 15,
      "metadata": {
        "id": "7PDcKY9pbEcd",
        "outputId": "0640ad11-457d-403e-dfd6-4eb7b0249f34"
      },
      "outputs": [
        {
          "name": "stdout",
          "output_type": "stream",
          "text": [
            "('python', 'js', 'SQL')\n",
            "('go', 'c#', 'vb')\n",
            "go\n",
            "c#\n",
            "vb\n"
          ]
        }
      ],
      "source": [
        "a_tuple=('python', 'js', 'SQL')  #宣告字典a_tuple\n",
        "#a_tuple[0]=python\n",
        "#a_tuple[1]=js\n",
        "#a_tuple[2]=SQL\n",
        "print(a_tuple)   #顯示 a_tuple 內容\n",
        "b_list=['go', 'c#', 'vb']\n",
        "#b_list[0]=go\n",
        "#b_list[1]=c#\n",
        "#b_list[2]=vb\n",
        "b_tuple=tuple(b_list)  \n",
        "print(b_tuple)         #顯示 b_tuple 內容\n",
        "print(b_tuple[0])      #顯示 b_tuple[0] 內容\n",
        "print(b_tuple[1])      #顯示 b_tuple[1] 內容\n",
        "print(b_tuple[2])      #顯示 b_tuple[2] 內容"
      ]
    },
    {
      "cell_type": "markdown",
      "metadata": {
        "id": "CUXAeIhFbEcd"
      },
      "source": [
        "### 字典(dictionary - dict)為帶有鍵值(key)的串列(list)\n",
        "##格式\n",
        "名稱 = {key名稱: 值, key1名稱: 值1}"
      ]
    },
    {
      "cell_type": "code",
      "execution_count": 16,
      "metadata": {
        "id": "8jVAFMBhbEcd",
        "outputId": "7be9f04f-00c1-4556-a43b-e7f7253755ca"
      },
      "outputs": [
        {
          "name": "stdout",
          "output_type": "stream",
          "text": [
            "python\n",
            "3.7\n",
            "python\n",
            "java\n",
            "SQL\n",
            "{'name': 'python', 'version': '3.7'}\n",
            "dict_keys(['name', 'version'])\n",
            "dict_values(['python', '3.7'])\n",
            "dict_items([('name', 'python'), ('version', '3.7')])\n",
            "True\n"
          ]
        }
      ],
      "source": [
        "languages = {} #宣告dictionary\n",
        "languages = {'name':'python', 'version':'3.7'} #名稱 = {key名稱: 值, key1名稱: 值1}\n",
        "print(languages['name'])          #顯示a[name]內容\n",
        "print(languages['version'])       #顯示a[version]內容\n",
        "a={0:'python', 1:'java', 2:'SQL'} #名稱 = {key名稱: 值, key1名稱: 值1}\n",
        "print(a[0])   #顯示內容a[0]\n",
        "print(a[1])   #顯示內容a[1]\n",
        "print(a[2])   #顯示內容a[2]\n",
        "print(languages)           #顯示languages內容\n",
        "print(languages.keys())    #顯示languages 鍵值 \n",
        "print(languages.values())  #顯示languages 值\n",
        "print(languages.items())   #顯示languages 鍵值  and  值\n",
        "print('name' in languages) #顯示 檢查 name 是否在 字典languages 裡面"
      ]
    },
    {
      "cell_type": "code",
      "execution_count": null,
      "metadata": {
        "id": "j3py58PubEce"
      },
      "outputs": [],
      "source": []
    }
  ],
  "metadata": {
    "colab": {
      "name": "Chap4.ipynb",
      "provenance": []
    },
    "kernelspec": {
      "display_name": "Python 3.10.4 64-bit",
      "language": "python",
      "name": "python3"
    },
    "language_info": {
      "codemirror_mode": {
        "name": "ipython",
        "version": 3
      },
      "file_extension": ".py",
      "mimetype": "text/x-python",
      "name": "python",
      "nbconvert_exporter": "python",
      "pygments_lexer": "ipython3",
      "version": "3.10.4"
    },
    "vscode": {
      "interpreter": {
        "hash": "f421bd6629c33cd6d6935ba372a827816a6b573729d249b96062e4a99557d3b8"
      }
    }
  },
  "nbformat": 4,
  "nbformat_minor": 0
}
